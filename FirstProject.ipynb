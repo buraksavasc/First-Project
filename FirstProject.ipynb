{
 "cells": [
  {
   "cell_type": "markdown",
   "id": "b2f4b49c-4812-483e-8784-18d03e9a2434",
   "metadata": {},
   "source": [
    "# First Project"
   ]
  },
  {
   "cell_type": "markdown",
   "id": "9fcdc065-043b-4c6b-b69d-7c25b6d888d6",
   "metadata": {},
   "source": [
    "In this notebook, I will create basic project to get used to github and jupyter basics"
   ]
  },
  {
   "cell_type": "markdown",
   "id": "41e039df-3aa8-4781-b165-2c267dac2812",
   "metadata": {},
   "source": [
    "**Objectives:**\n",
    "\n",
    "- List data science libraries\n",
    "- List popular languages for Data Science.\n",
    "- Table of data science tools\n",
    "- A few examples of arithmetic expression \n",
    "- Code cell including converting minutes to hours\n"
   ]
  },
  {
   "cell_type": "markdown",
   "id": "9eaa9c7d-d661-43a1-80fc-1807c95a33e2",
   "metadata": {},
   "source": [
    "Some of the popular languages that Data Scientists use are:\n",
    "1.  R\n",
    "2. Python\n",
    "3. Java\n",
    "4. Scala\n",
    "5. SQL\n",
    "6. Julia\n",
    "7. Go\n",
    "8. C++\n",
    "9. JavaScript"
   ]
  },
  {
   "cell_type": "markdown",
   "id": "fc175990-4f49-4088-951a-9ac69aea3fb6",
   "metadata": {},
   "source": [
    "Some of the commonly used libraries used by Data Scientists include:\n",
    "1. numpy\n",
    "2. pandas\n",
    "3. matplotlib\n",
    "4. seaborn\n",
    "5. scipy\n",
    "6. scikit-learn\n",
    "7. statsmodels\n",
    "8. xgboost\n",
    "9. pytorch\n",
    "10. plotly"
   ]
  },
  {
   "cell_type": "markdown",
   "id": "f680ced7-7c0d-4d8e-ba3d-7bc37db9af71",
   "metadata": {},
   "source": [
    "### Data Science Tools\n",
    "\n",
    "| Tools        |\n",
    "|--------------|\n",
    "|JupyterLab    |\n",
    "|RStudio       |\n",
    "|Apache Spark  |\n",
    "|Tableau       |\n",
    "|Apache Hadoop |\n",
    "|Google Colab  |\n",
    "|Power BI      |"
   ]
  },
  {
   "cell_type": "markdown",
   "id": "e89d5917-6574-44d3-846a-0125e07aefb5",
   "metadata": {},
   "source": [
    "### Here are a few examples of evaluating arithmetic expressions in Python\n",
    "1. Addition --> '10 + 2' equals '12'\n",
    "2. Substraction --> '10 - 2' equals '8'\n",
    "3. Division --> '10 / 2' equals '8'\n",
    "4. Multiplication --> '10*2' equals '20'"
   ]
  },
  {
   "cell_type": "code",
   "execution_count": 9,
   "id": "708fa9e7-a70e-4a14-895a-40c8e2837588",
   "metadata": {},
   "outputs": [
    {
     "data": {
      "text/plain": [
       "51"
      ]
     },
     "execution_count": 9,
     "metadata": {},
     "output_type": "execute_result"
    }
   ],
   "source": [
    "# We evaluating combine of multiplying and adding of numbers in this cell\n",
    "(((1+6)*5)+(2*8))\n"
   ]
  },
  {
   "cell_type": "code",
   "execution_count": 11,
   "id": "a0b20b55-cdc3-488f-a9c1-87bf24fd1ec2",
   "metadata": {},
   "outputs": [
    {
     "data": {
      "text/plain": [
       "5.85"
      ]
     },
     "execution_count": 11,
     "metadata": {},
     "output_type": "execute_result"
    }
   ],
   "source": [
    "# This will convert 351 minutes to hour by dividing 60\n",
    "351/60"
   ]
  },
  {
   "cell_type": "code",
   "execution_count": null,
   "id": "126c3514-c20f-4943-95cf-0c718c329f75",
   "metadata": {},
   "outputs": [],
   "source": []
  }
 ],
 "metadata": {
  "kernelspec": {
   "display_name": "Python 3 (ipykernel)",
   "language": "python",
   "name": "python3"
  },
  "language_info": {
   "codemirror_mode": {
    "name": "ipython",
    "version": 3
   },
   "file_extension": ".py",
   "mimetype": "text/x-python",
   "name": "python",
   "nbconvert_exporter": "python",
   "pygments_lexer": "ipython3",
   "version": "3.12.5"
  }
 },
 "nbformat": 4,
 "nbformat_minor": 5
}
